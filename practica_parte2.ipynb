{
 "cells": [
  {
   "cell_type": "markdown",
   "id": "a8336f25",
   "metadata": {
    "id": "a8336f25"
   },
   "source": [
    "## Carga de librerías necesarias"
   ]
  },
  {
   "cell_type": "code",
   "execution_count": 2,
   "id": "49209169",
   "metadata": {},
   "outputs": [
    {
     "data": {
      "application/vnd.jupyter.widget-view+json": {
       "model_id": "fe9bcb9e6dad4722a951c3eaa548c6b6",
       "version_major": 2,
       "version_minor": 0
      },
      "text/plain": [
       "Button(description='Press here to execute everything', style=ButtonStyle())"
      ]
     },
     "metadata": {},
     "output_type": "display_data"
    }
   ],
   "source": [
    "from IPython.display import Javascript, display\n",
    "from ipywidgets import widgets\n",
    "\n",
    "def run_all(ev):\n",
    "    display(Javascript('IPython.notebook.execute_cells_below()'))\n",
    "\n",
    "button = widgets.Button(description=\"Press here to execute everything\")\n",
    "button.on_click(run_all)\n",
    "display(button)"
   ]
  },
  {
   "cell_type": "code",
   "execution_count": 3,
   "id": "53b061e5",
   "metadata": {
    "colab": {
     "base_uri": "https://localhost:8080/",
     "height": 17
    },
    "executionInfo": {
     "elapsed": 470,
     "status": "ok",
     "timestamp": 1713269279960,
     "user": {
      "displayName": "Jonay González Guerra",
      "userId": "05351137418708617118"
     },
     "user_tz": -60
    },
    "id": "53b061e5",
    "outputId": "8025fee9-c01c-4608-f455-777d0a9c749e"
   },
   "outputs": [
    {
     "data": {
      "text/html": [
       "        <script type=\"text/javascript\">\n",
       "        window.PlotlyConfig = {MathJaxConfig: 'local'};\n",
       "        if (window.MathJax && window.MathJax.Hub && window.MathJax.Hub.Config) {window.MathJax.Hub.Config({SVG: {font: \"STIX-Web\"}});}\n",
       "        if (typeof require !== 'undefined') {\n",
       "        require.undef(\"plotly\");\n",
       "        requirejs.config({\n",
       "            paths: {\n",
       "                'plotly': ['https://cdn.plot.ly/plotly-2.29.1.min']\n",
       "            }\n",
       "        });\n",
       "        require(['plotly'], function(Plotly) {\n",
       "            window._Plotly = Plotly;\n",
       "        });\n",
       "        }\n",
       "        </script>\n",
       "        "
      ]
     },
     "metadata": {},
     "output_type": "display_data"
    }
   ],
   "source": [
    "import numpy as np\n",
    "import pandas as pd\n",
    "import matplotlib.pyplot as plt\n",
    "import seaborn as sns\n",
    "import geopandas as gpd\n",
    "import plotly.express as px  #https://plotly.com/python/line-and-scatter/\n",
    "from ipywidgets import fixed, interact_manual\n",
    "from ipywidgets import interact\n",
    "import plotly.offline as pyo\n",
    "pyo.init_notebook_mode(connected=True)\n",
    "import warnings\n",
    "warnings.filterwarnings('ignore')\n",
    "import webbrowser"
   ]
  },
  {
   "cell_type": "markdown",
   "id": "f3dcd7b0",
   "metadata": {
    "id": "f3dcd7b0"
   },
   "source": [
    "## Carga de datos y preprocesado"
   ]
  },
  {
   "cell_type": "code",
   "execution_count": 4,
   "id": "lGl89e-Oj5Hc",
   "metadata": {
    "colab": {
     "base_uri": "https://localhost:8080/",
     "height": 565
    },
    "executionInfo": {
     "elapsed": 41779,
     "status": "ok",
     "timestamp": 1713269321737,
     "user": {
      "displayName": "Jonay González Guerra",
      "userId": "05351137418708617118"
     },
     "user_tz": -60
    },
    "id": "lGl89e-Oj5Hc",
    "outputId": "27a9b532-6644-4f9a-ab6e-d47f4de431a0",
    "scrolled": false
   },
   "outputs": [],
   "source": [
    "#df = pd.read_excel('owid-energy-data.xlsx')\n",
    "df = pd.read_excel('https://nyc3.digitaloceanspaces.com/owid-public/data/energy/owid-energy-data.xlsx')\n",
    "\n",
    "df[\"gdp per capita\"]=df.gdp/df.population #creo nuevo atributo PIB per capita\n",
    "df[\"gdp per capita\"]=df[\"gdp per capita\"].round(2)\n",
    "\n",
    "\n",
    "countries=list(set(df.country))\n",
    "countries_none=countries.copy()\n",
    "countries_none.append('None')\n",
    "atributos=list(df.columns)\n",
    "atributos_num=[atributo for atributo in atributos if df[atributo].dtypes==\"float64\"]\n",
    "\n",
    "#df_metadatos = pd.read_excel('owid-energy-data.xlsx',sheet_name=1)  \n",
    "df_metadatos = pd.read_excel('https://nyc3.digitaloceanspaces.com/owid-public/data/energy/owid-energy-data.xlsx',sheet_name=1)\n",
    "df_metadatos\n",
    "\n",
    "dict_unidades=dict()\n",
    "\n",
    "for columna in atributos:\n",
    "    if columna != 'gdp per capita':\n",
    "        try: dict_unidades[columna]=df_metadatos[df_metadatos.column==columna].unit.values[0]\n",
    "        except: dict_unidades[columna]=df_metadatos[df_metadatos.column==columna].unit.values\n",
    "    else: dict_unidades[columna]='$/person'\n",
    "dict_unidades\n",
    "\n",
    "\n",
    "\n",
    "\n",
    "# cargo df con poligonos del mapa mundial\n",
    "world = gpd.read_file(gpd.datasets.get_path(\"naturalearth_lowres\"))\n",
    "\n",
    "world\n",
    "#En primer lugar asignamos el iso 'KOS' a 'Kosovo' en ambos dataframes:\n",
    "world.iso_a3[world.name=='Kosovo']='KOS'\n",
    "df.iso_code[df.country=='Kosovo']='KOS'\n",
    "\n",
    "\n",
    "\n",
    "###Añado la columna continente al df a partir de la información en el dataframe world\n",
    "\n",
    "dict_countries=dict();\n",
    "for i in range(world.shape[0]):\n",
    "    dict_countries[world.iloc[i].iso_a3]=world.iloc[i].continent\n",
    "\n",
    "continent_series=pd.Series(data=list(\"c\"*df.shape[0]))\n",
    "\n",
    "for i in range(continent_series.shape[0]):\n",
    "    try:\n",
    "        continent_series.iloc[i]=dict_countries[df.iloc[i].iso_code]\n",
    "    except:\n",
    "        continent_series.iloc[i]=None\n",
    "\n",
    "continent_series\n",
    "\n",
    "df[\"continent\"]=continent_series\n",
    "\n",
    "\n",
    "\n",
    "\n",
    "\n"
   ]
  },
  {
   "cell_type": "markdown",
   "id": "f25ed7b0",
   "metadata": {
    "id": "f25ed7b0"
   },
   "source": [
    "## Visualización 1"
   ]
  },
  {
   "cell_type": "code",
   "execution_count": null,
   "id": "uPpN8Rfhv5_r",
   "metadata": {
    "executionInfo": {
     "elapsed": 3,
     "status": "ok",
     "timestamp": 1713269321737,
     "user": {
      "displayName": "Jonay González Guerra",
      "userId": "05351137418708617118"
     },
     "user_tz": -60
    },
    "id": "uPpN8Rfhv5_r"
   },
   "outputs": [],
   "source": []
  },
  {
   "cell_type": "code",
   "execution_count": 4,
   "id": "uLu9YdPvv5pc",
   "metadata": {
    "colab": {
     "base_uri": "https://localhost:8080/"
    },
    "executionInfo": {
     "elapsed": 6644,
     "status": "ok",
     "timestamp": 1713269328379,
     "user": {
      "displayName": "Jonay González Guerra",
      "userId": "05351137418708617118"
     },
     "user_tz": -60
    },
    "id": "uLu9YdPvv5pc",
    "outputId": "78ff3b8d-be3b-4a28-bc59-496d859faa82"
   },
   "outputs": [
    {
     "name": "stdout",
     "output_type": "stream",
     "text": [
      "Requirement already satisfied: Dash in c:\\users\\jglez\\anaconda3\\lib\\site-packages (2.16.1)\n",
      "Requirement already satisfied: Flask<3.1,>=1.0.4 in c:\\users\\jglez\\anaconda3\\lib\\site-packages (from Dash) (2.2.2)\n",
      "Requirement already satisfied: Werkzeug<3.1 in c:\\users\\jglez\\anaconda3\\lib\\site-packages (from Dash) (2.2.3)\n",
      "Requirement already satisfied: plotly>=5.0.0 in c:\\users\\jglez\\anaconda3\\lib\\site-packages (from Dash) (5.19.0)\n",
      "Requirement already satisfied: dash-html-components==2.0.0 in c:\\users\\jglez\\anaconda3\\lib\\site-packages (from Dash) (2.0.0)\n",
      "Requirement already satisfied: dash-core-components==2.0.0 in c:\\users\\jglez\\anaconda3\\lib\\site-packages (from Dash) (2.0.0)\n",
      "Requirement already satisfied: dash-table==5.0.0 in c:\\users\\jglez\\anaconda3\\lib\\site-packages (from Dash) (5.0.0)\n",
      "Requirement already satisfied: importlib-metadata in c:\\users\\jglez\\anaconda3\\lib\\site-packages (from Dash) (6.0.0)\n",
      "Requirement already satisfied: typing-extensions>=4.1.1 in c:\\users\\jglez\\anaconda3\\lib\\site-packages (from Dash) (4.7.1)\n",
      "Requirement already satisfied: requests in c:\\users\\jglez\\anaconda3\\lib\\site-packages (from Dash) (2.31.0)\n",
      "Requirement already satisfied: retrying in c:\\users\\jglez\\anaconda3\\lib\\site-packages (from Dash) (1.3.4)\n",
      "Requirement already satisfied: nest-asyncio in c:\\users\\jglez\\anaconda3\\lib\\site-packages (from Dash) (1.5.6)\n",
      "Requirement already satisfied: setuptools in c:\\users\\jglez\\anaconda3\\lib\\site-packages (from Dash) (68.0.0)\n",
      "Requirement already satisfied: Jinja2>=3.0 in c:\\users\\jglez\\anaconda3\\lib\\site-packages (from Flask<3.1,>=1.0.4->Dash) (3.1.2)\n",
      "Requirement already satisfied: itsdangerous>=2.0 in c:\\users\\jglez\\anaconda3\\lib\\site-packages (from Flask<3.1,>=1.0.4->Dash) (2.0.1)\n",
      "Requirement already satisfied: click>=8.0 in c:\\users\\jglez\\anaconda3\\lib\\site-packages (from Flask<3.1,>=1.0.4->Dash) (8.0.4)\n",
      "Requirement already satisfied: tenacity>=6.2.0 in c:\\users\\jglez\\anaconda3\\lib\\site-packages (from plotly>=5.0.0->Dash) (8.2.2)\n",
      "Requirement already satisfied: packaging in c:\\users\\jglez\\anaconda3\\lib\\site-packages (from plotly>=5.0.0->Dash) (23.0)\n",
      "Requirement already satisfied: MarkupSafe>=2.1.1 in c:\\users\\jglez\\anaconda3\\lib\\site-packages (from Werkzeug<3.1->Dash) (2.1.1)\n",
      "Requirement already satisfied: zipp>=0.5 in c:\\users\\jglez\\anaconda3\\lib\\site-packages (from importlib-metadata->Dash) (3.11.0)\n",
      "Requirement already satisfied: charset-normalizer<4,>=2 in c:\\users\\jglez\\anaconda3\\lib\\site-packages (from requests->Dash) (2.0.4)\n",
      "Requirement already satisfied: idna<4,>=2.5 in c:\\users\\jglez\\anaconda3\\lib\\site-packages (from requests->Dash) (3.4)\n",
      "Requirement already satisfied: urllib3<3,>=1.21.1 in c:\\users\\jglez\\anaconda3\\lib\\site-packages (from requests->Dash) (1.26.16)\n",
      "Requirement already satisfied: certifi>=2017.4.17 in c:\\users\\jglez\\anaconda3\\lib\\site-packages (from requests->Dash) (2024.2.2)\n",
      "Requirement already satisfied: six>=1.7.0 in c:\\users\\jglez\\anaconda3\\lib\\site-packages (from retrying->Dash) (1.16.0)\n",
      "Requirement already satisfied: colorama in c:\\users\\jglez\\anaconda3\\lib\\site-packages (from click>=8.0->Flask<3.1,>=1.0.4->Dash) (0.4.6)\n"
     ]
    }
   ],
   "source": [
    "!pip install Dash"
   ]
  },
  {
   "cell_type": "code",
   "execution_count": 5,
   "id": "536ba911",
   "metadata": {
    "colab": {
     "base_uri": "https://localhost:8080/",
     "height": 671
    },
    "executionInfo": {
     "elapsed": 10,
     "status": "ok",
     "timestamp": 1713269328379,
     "user": {
      "displayName": "Jonay González Guerra",
      "userId": "05351137418708617118"
     },
     "user_tz": -60
    },
    "id": "536ba911",
    "outputId": "eec96237-caa5-401e-fc0f-99bef4248dc6",
    "scrolled": false
   },
   "outputs": [
    {
     "data": {
      "text/html": [
       "\n",
       "        <iframe\n",
       "            width=\"100%\"\n",
       "            height=\"650\"\n",
       "            src=\"http://127.0.0.1:7080/\"\n",
       "            frameborder=\"0\"\n",
       "            allowfullscreen\n",
       "            \n",
       "        ></iframe>\n",
       "        "
      ],
      "text/plain": [
       "<IPython.lib.display.IFrame at 0x219c9b68fd0>"
      ]
     },
     "metadata": {},
     "output_type": "display_data"
    }
   ],
   "source": [
    "from dash import Dash, dcc, html, Input, Output\n",
    "import plotly.graph_objects as go\n",
    "\n",
    "app1 = Dash(__name__)\n",
    "\n",
    "app1.layout = html.Div([\n",
    "    html.H1(children='Diagrama de dispersión',style={'textAlign':'center'}),\n",
    "    html.P(\"Select year and atributes:\"),\n",
    "    dcc.Dropdown(id=\"dropdown11\",options=atributos_num, value='population', clearable=False,),\n",
    "    dcc.Dropdown(id=\"dropdown12\",options=countries,value='Spain',clearable=False,),\n",
    "    dcc.Dropdown(id=\"dropdown13\",options=countries_none,value='None',clearable=False,),\n",
    "    dcc.Dropdown(id=\"dropdown14\",options=countries_none,value='None',clearable=False,),\n",
    "    dcc.Dropdown(id=\"dropdown15\",options=countries_none,value='None',clearable=False,),\n",
    "    dcc.Graph(id=\"graph1\")], style={ 'height':'5000'})\n",
    "\n",
    "\n",
    "@app1.callback(\n",
    "    Output(\"graph1\", \"figure\"),\n",
    "    Input(\"dropdown11\", \"value\"),Input(\"dropdown12\", \"value\"),Input(\"dropdown13\", \"value\"),Input(\"dropdown14\", \"value\"),\n",
    "    Input(\"dropdown15\", \"value\"))\n",
    "\n",
    "def temp_series(atributo=\"population\",country1=\"Spain\", country2=\"None\",country3=\"None\",country4=\"None\"):\n",
    "    df_countries=df[(df.country==country1)|(df.country==country2)|(df.country==country3)|(df.country==country4)]\n",
    "    fig1 = px.line(df_countries,x=\"year\",y=atributo,color='country',\n",
    "                  labels={\n",
    "                     \"year\": \"year\",\n",
    "                     atributo: f'{atributo} ({dict_unidades[atributo]})'},\n",
    "                  title=f'Temporal series of {atributo}')\n",
    "    fig1.update_layout(plot_bgcolor=\"white\")\n",
    "    fig1.update_xaxes(showgrid=True, gridwidth=1, gridcolor='LightGrey')\n",
    "    fig1.update_yaxes(showgrid=True, gridwidth=1, gridcolor='LightGrey')\n",
    "    return fig1\n",
    "\n",
    "\n",
    "if __name__ == '__main__':\n",
    "    webbrowser.open(\"http://127.0.0.1:7080/\")\n",
    "    app1.run(host='127.0.0.1', port='7080', proxy=None, debug=False,\n",
    "             dev_tools_ui=None, dev_tools_props_check=None, dev_tools_serve_dev_bundles=None,\n",
    "             dev_tools_hot_reload=None, dev_tools_hot_reload_interval=None,\n",
    "             dev_tools_hot_reload_watch_interval=None,\n",
    "             dev_tools_hot_reload_max_retry=None, dev_tools_silence_routes_logging=None,\n",
    "             dev_tools_prune_errors=None)\n",
    "\n",
    "\n",
    "\n"
   ]
  },
  {
   "cell_type": "markdown",
   "id": "84777234",
   "metadata": {
    "id": "84777234"
   },
   "source": [
    "<html><head>\n",
    "\n",
    "\n",
    "<!-- Load require.js. Delete this if your page already loads require.js -->\n",
    "<script src=\"https://cdnjs.cloudflare.com/ajax/libs/require.js/2.3.4/require.min.js\" integrity=\"sha256-Ae2Vz/4ePdIu6ZyI/5ZGsYnb+m0JlOmKPjt6XZ9JJkA=\" crossorigin=\"anonymous\"></script>\n",
    "<script src=\"https://cdn.jsdelivr.net/npm/@jupyter-widgets/html-manager@*/dist/embed-amd.js\" crossorigin=\"anonymous\"></script>\n",
    "<script type=\"application/vnd.jupyter.widget-state+json\">\n",
    "{\n",
    "    \"version_major\": 2,\n",
    "    \"version_minor\": 0,\n",
    "    \"state\": {\n",
    "        \"bc697fe8975b43dabd75bfb60389b7b4\": {\n",
    "            \"model_name\": \"IntSliderModel\",\n",
    "            \"model_module\": \"@jupyter-widgets/controls\",\n",
    "            \"model_module_version\": \"2.0.0\",\n",
    "            \"state\": {\n",
    "                \"value\": 1900,\n",
    "                \"max\": 2022,\n",
    "                \"min\": 1900,\n",
    "                \"style\": \"IPY_MODEL_d80cdfa24b4a4185822d8307dde99a33\",\n",
    "                \"behavior\": \"drag-tap\",\n",
    "                \"layout\": \"IPY_MODEL_d3368f1cb4dd48ce815ff85d087dfaa8\"\n",
    "            }\n",
    "        }\n",
    "    }\n",
    "}\n",
    "</script>\n",
    "</head>\n",
    "<body>\n",
    "\n",
    "<script type=\"application/vnd.jupyter.widget-view+json\">\n",
    "{\n",
    "    \"version_major\": 2,\n",
    "    \"version_minor\": 0,\n",
    "    \"model_id\": \"add65cfd37e2451387ff496bb6293e56\"\n",
    "}\n",
    "</script>\n",
    "\n",
    "</body>\n",
    "</html>\n"
   ]
  },
  {
   "cell_type": "code",
   "execution_count": null,
   "id": "5b315ff0",
   "metadata": {
    "executionInfo": {
     "elapsed": 9,
     "status": "ok",
     "timestamp": 1713269328379,
     "user": {
      "displayName": "Jonay González Guerra",
      "userId": "05351137418708617118"
     },
     "user_tz": -60
    },
    "id": "5b315ff0"
   },
   "outputs": [],
   "source": [
    "\n"
   ]
  },
  {
   "cell_type": "code",
   "execution_count": null,
   "id": "107dabe5",
   "metadata": {
    "executionInfo": {
     "elapsed": 8,
     "status": "ok",
     "timestamp": 1713269328379,
     "user": {
      "displayName": "Jonay González Guerra",
      "userId": "05351137418708617118"
     },
     "user_tz": -60
    },
    "id": "107dabe5"
   },
   "outputs": [],
   "source": []
  },
  {
   "cell_type": "code",
   "execution_count": null,
   "id": "fc478396",
   "metadata": {
    "executionInfo": {
     "elapsed": 8,
     "status": "ok",
     "timestamp": 1713269328379,
     "user": {
      "displayName": "Jonay González Guerra",
      "userId": "05351137418708617118"
     },
     "user_tz": -60
    },
    "id": "fc478396"
   },
   "outputs": [],
   "source": []
  },
  {
   "cell_type": "markdown",
   "id": "d6629519",
   "metadata": {
    "id": "d6629519"
   },
   "source": [
    "## Visualización 2"
   ]
  },
  {
   "cell_type": "code",
   "execution_count": 6,
   "id": "6574d618",
   "metadata": {
    "colab": {
     "base_uri": "https://localhost:8080/",
     "height": 671
    },
    "executionInfo": {
     "elapsed": 8,
     "status": "ok",
     "timestamp": 1713269328379,
     "user": {
      "displayName": "Jonay González Guerra",
      "userId": "05351137418708617118"
     },
     "user_tz": -60
    },
    "id": "6574d618",
    "outputId": "2c266248-c779-4bdf-a3e0-312fce6e1ca3",
    "scrolled": false
   },
   "outputs": [
    {
     "data": {
      "text/html": [
       "\n",
       "        <iframe\n",
       "            width=\"100%\"\n",
       "            height=\"650\"\n",
       "            src=\"http://127.0.0.1:7081/\"\n",
       "            frameborder=\"0\"\n",
       "            allowfullscreen\n",
       "            \n",
       "        ></iframe>\n",
       "        "
      ],
      "text/plain": [
       "<IPython.lib.display.IFrame at 0x219c9bbbb90>"
      ]
     },
     "metadata": {},
     "output_type": "display_data"
    }
   ],
   "source": [
    "from dash import Dash, dcc, html, Input, Output\n",
    "import plotly.graph_objects as go\n",
    "\n",
    "app2 = Dash(__name__)\n",
    "\n",
    "app2.layout = html.Div([\n",
    "    html.H1('Diagrama de dispersión',style={'textAlign':'center'}),\n",
    "    html.P(\"Select year and atributes:\"),\n",
    "    dcc.Dropdown(\n",
    "        id=\"dropdown21\",\n",
    "        options=atributos_num,\n",
    "        value='population',\n",
    "        clearable=False,\n",
    "    ),dcc.Dropdown(\n",
    "        id=\"dropdown22\",\n",
    "        options=atributos_num,\n",
    "        value='electricity_demand',\n",
    "        clearable=False,\n",
    "    ),dcc.Dropdown(\n",
    "        id=\"dropdown23\",\n",
    "        options=atributos_num,\n",
    "        value='gdp',\n",
    "        clearable=False,\n",
    "    ),dcc.Dropdown(\n",
    "        id=\"dropdown24\",\n",
    "        options=atributos_num,\n",
    "        value='gdp per capita',\n",
    "        clearable=False,\n",
    "    ),dcc.Slider(df.year.min(), df.year.max(), step=1, value=2010, marks=None,id='my-slider2' ,\n",
    "    tooltip={\"placement\": \"bottom\", \"always_visible\": True}),\n",
    "    dcc.Graph(id=\"graph2\")\n",
    "])\n",
    "\n",
    "\n",
    "@app2.callback(\n",
    "    Output(\"graph2\", \"figure\"), Input(\"my-slider2\", \"value\"),\n",
    "    Input(\"dropdown21\", \"value\"),Input(\"dropdown22\", \"value\"),\n",
    "    Input(\"dropdown23\", \"value\"),Input(\"dropdown24\", \"value\"))\n",
    "\n",
    "def dispersion(year,atributo_x=\"population\", atributo_y=\"electricity_demand\", atributo_tamaño=\"gdp\",\n",
    "               atributo_color=\"gdp per capita\"):\n",
    "    df_year=df[df.year==year]\n",
    "    df_year=df_year[np.logical_not(np.isnan(df_year[atributo_tamaño]))]\n",
    "    df_year=df_year[df_year.country!=\"World\"]\n",
    "    fig2 = px.scatter(df_year,x=atributo_x,y=atributo_y,color=atributo_color,size=atributo_tamaño,hover_data=[\"country\"],\n",
    "                     labels={\n",
    "                     atributo_x: f\"{atributo_x} ({dict_unidades[atributo_x]})\",\n",
    "                     atributo_y: f\"{atributo_y} ({dict_unidades[atributo_y]})\",\n",
    "                     atributo_color: f\"{atributo_color} ({dict_unidades[atributo_color]})\",\n",
    "                     atributo_tamaño: f\"{atributo_tamaño} ({dict_unidades[atributo_tamaño]})\"})\n",
    "    fig2.update_layout(plot_bgcolor=\"white\")\n",
    "    fig2.update_xaxes(showgrid=True, gridwidth=1, gridcolor='LightGrey')\n",
    "    fig2.update_yaxes(showgrid=True, gridwidth=1, gridcolor='LightGrey')\n",
    "    return fig2\n",
    "\n",
    "\n",
    "if __name__ == '__main__':\n",
    "    webbrowser.open(\"http://127.0.0.1:7081/\")\n",
    "    app2.run(host='127.0.0.1', port='7081', proxy=None, debug=False,\n",
    "             dev_tools_ui=None, dev_tools_props_check=None, dev_tools_serve_dev_bundles=None,\n",
    "             dev_tools_hot_reload=None, dev_tools_hot_reload_interval=None,\n",
    "             dev_tools_hot_reload_watch_interval=None,\n",
    "             dev_tools_hot_reload_max_retry=None, dev_tools_silence_routes_logging=None,\n",
    "             dev_tools_prune_errors=None)\n",
    "\n",
    "\n",
    "\n",
    "\n",
    "\n",
    "\n"
   ]
  },
  {
   "cell_type": "markdown",
   "id": "2a9f4b50",
   "metadata": {
    "id": "2a9f4b50"
   },
   "source": [
    "## Visualización 3"
   ]
  },
  {
   "cell_type": "code",
   "execution_count": 7,
   "id": "2214cc1d",
   "metadata": {
    "colab": {
     "base_uri": "https://localhost:8080/",
     "height": 671
    },
    "executionInfo": {
     "elapsed": 8,
     "status": "ok",
     "timestamp": 1713269328380,
     "user": {
      "displayName": "Jonay González Guerra",
      "userId": "05351137418708617118"
     },
     "user_tz": -60
    },
    "id": "2214cc1d",
    "outputId": "69289ac0-4c28-466e-aea0-75c7294757f3"
   },
   "outputs": [
    {
     "data": {
      "text/html": [
       "\n",
       "        <iframe\n",
       "            width=\"100%\"\n",
       "            height=\"650\"\n",
       "            src=\"http://127.0.0.1:7082/\"\n",
       "            frameborder=\"0\"\n",
       "            allowfullscreen\n",
       "            \n",
       "        ></iframe>\n",
       "        "
      ],
      "text/plain": [
       "<IPython.lib.display.IFrame at 0x219c98f5190>"
      ]
     },
     "metadata": {},
     "output_type": "display_data"
    }
   ],
   "source": [
    "from dash import Dash, dcc, html, Input, Output\n",
    "import plotly.graph_objects as go\n",
    "\n",
    "app3 = Dash(__name__)\n",
    "\n",
    "app3.layout = html.Div([\n",
    "    html.H1('World map',style={'textAlign':'center'}),\n",
    "    html.P(\"Select year and atribute:\"),\n",
    "    dcc.Dropdown(\n",
    "        id=\"dropdown31\",\n",
    "        options=atributos_num,\n",
    "        value='gdp per capita',\n",
    "        clearable=False,\n",
    "    ),dcc.Slider(df.year.min(), df.year.max(), step=1, value=2010, marks=None,id='my-slider3' ,\n",
    "    tooltip={\"placement\": \"bottom\", \"always_visible\": True}),\n",
    "    dcc.Graph(id=\"graph3\")\n",
    "])\n",
    "\n",
    "\n",
    "@app3.callback(\n",
    "    Output(\"graph3\", \"figure\"),\n",
    "    Input(\"dropdown31\", \"value\"),Input(\"my-slider3\", \"value\"))\n",
    "\n",
    "def worldmap(atributo,year):\n",
    "\n",
    "    # generate values\n",
    "    nueva_column=pd.Series(data=np.repeat(np.nan,world.shape[0]))\n",
    "    for i in range(world.shape[0]):\n",
    "        try: nueva_column.iloc[i]=df[(df.year==year)&(df.iso_code==world.iloc[i].iso_a3)][atributo].values[0]\n",
    "        except: nueva_column.iloc[i]=np.nan\n",
    "\n",
    "    world.pop_est=nueva_column\n",
    "\n",
    "    # plot a basic map of the world\n",
    "    fig3 = px.choropleth(world, geojson=world.geometry, locations=world.index,\n",
    "                        color=\"pop_est\", hover_data=[\"name\"],\n",
    "                       labels={\n",
    "                     \"pop_est\": f\"{atributo} ({dict_unidades[atributo]})\"})\n",
    "    fig3.update_geos(fitbounds=\"locations\", visible=False)\n",
    "    #fig3.update_layout(coloraxis_colorbar=dict(len=0.5, thickness=10))\n",
    "    return fig3\n",
    "\n",
    "if __name__ == '__main__':\n",
    "    webbrowser.open(\"http://127.0.0.1:7082/\")\n",
    "    app3.run(host='127.0.0.1', port='7082', proxy=None,\n",
    "                                    debug=False, dev_tools_ui=None, dev_tools_props_check=None,\n",
    "                                    dev_tools_serve_dev_bundles=None, dev_tools_hot_reload=None,\n",
    "                                    dev_tools_hot_reload_interval=None, dev_tools_hot_reload_watch_interval=None,\n",
    "                                    dev_tools_hot_reload_max_retry=None, dev_tools_silence_routes_logging=None,\n",
    "                                    dev_tools_prune_errors=None)\n",
    "\n",
    "\n",
    "\n"
   ]
  },
  {
   "cell_type": "code",
   "execution_count": 8,
   "id": "458200b9",
   "metadata": {},
   "outputs": [
    {
     "name": "stderr",
     "output_type": "stream",
     "text": [
      "[2024-04-20 09:32:40,209] ERROR in app: Exception on /_dash-update-component [POST]\n",
      "Traceback (most recent call last):\n",
      "  File \"C:\\Users\\jglez\\anaconda3\\Lib\\site-packages\\flask\\app.py\", line 2525, in wsgi_app\n",
      "    response = self.full_dispatch_request()\n",
      "               ^^^^^^^^^^^^^^^^^^^^^^^^^^^^\n",
      "  File \"C:\\Users\\jglez\\anaconda3\\Lib\\site-packages\\flask\\app.py\", line 1822, in full_dispatch_request\n",
      "    rv = self.handle_user_exception(e)\n",
      "         ^^^^^^^^^^^^^^^^^^^^^^^^^^^^^\n",
      "  File \"C:\\Users\\jglez\\anaconda3\\Lib\\site-packages\\flask\\app.py\", line 1820, in full_dispatch_request\n",
      "    rv = self.dispatch_request()\n",
      "         ^^^^^^^^^^^^^^^^^^^^^^^\n",
      "  File \"C:\\Users\\jglez\\anaconda3\\Lib\\site-packages\\flask\\app.py\", line 1796, in dispatch_request\n",
      "    return self.ensure_sync(self.view_functions[rule.endpoint])(**view_args)\n",
      "           ^^^^^^^^^^^^^^^^^^^^^^^^^^^^^^^^^^^^^^^^^^^^^^^^^^^^^^^^^^^^^^^^^\n",
      "  File \"C:\\Users\\jglez\\anaconda3\\Lib\\site-packages\\dash\\dash.py\", line 1352, in dispatch\n",
      "    ctx.run(\n",
      "  File \"C:\\Users\\jglez\\anaconda3\\Lib\\site-packages\\dash\\_callback.py\", line 450, in add_context\n",
      "    output_value = _invoke_callback(func, *func_args, **func_kwargs)\n",
      "                   ^^^^^^^^^^^^^^^^^^^^^^^^^^^^^^^^^^^^^^^^^^^^^^^^^\n",
      "  File \"C:\\Users\\jglez\\anaconda3\\Lib\\site-packages\\dash\\_callback.py\", line 39, in _invoke_callback\n",
      "    return func(*args, **kwargs)  # %% callback invoked %%\n",
      "           ^^^^^^^^^^^^^^^^^^^^^\n",
      "  File \"C:\\Users\\jglez\\AppData\\Local\\Temp\\ipykernel_21636\\1670369080.py\", line 24, in temp_series\n",
      "    fig1 = px.line(df_countries,x=\"year\",y=atributo,color='country',\n",
      "           ^^^^^^^^^^^^^^^^^^^^^^^^^^^^^^^^^^^^^^^^^^^^^^^^^^^^^^^^^\n",
      "  File \"C:\\Users\\jglez\\anaconda3\\Lib\\site-packages\\plotly\\express\\_chart_types.py\", line 264, in line\n",
      "    return make_figure(args=locals(), constructor=go.Scatter)\n",
      "           ^^^^^^^^^^^^^^^^^^^^^^^^^^^^^^^^^^^^^^^^^^^^^^^^^^\n",
      "  File \"C:\\Users\\jglez\\anaconda3\\Lib\\site-packages\\plotly\\express\\_core.py\", line 2088, in make_figure\n",
      "    apply_default_cascade(args)\n",
      "  File \"C:\\Users\\jglez\\anaconda3\\Lib\\site-packages\\plotly\\express\\_core.py\", line 949, in apply_default_cascade\n",
      "    args[\"symbol_sequence\"] = [\n",
      "                              ^\n",
      "  File \"C:\\Users\\jglez\\anaconda3\\Lib\\site-packages\\plotly\\express\\_core.py\", line 950, in <listcomp>\n",
      "    scatter.marker.symbol for scatter in args[\"template\"].data.scatter\n",
      "    ^^^^^^^^^^^^^^^^^^^^^\n",
      "  File \"C:\\Users\\jglez\\anaconda3\\Lib\\site-packages\\plotly\\graph_objs\\scatter\\_marker.py\", line 1214, in symbol\n",
      "    return self[\"symbol\"]\n",
      "           ~~~~^^^^^^^^^^\n",
      "  File \"C:\\Users\\jglez\\anaconda3\\Lib\\site-packages\\plotly\\basedatatypes.py\", line 4748, in __getitem__\n",
      "    elif self._props is not None and prop in self._props:\n",
      "         ^^^^^^^^^^^\n",
      "  File \"C:\\Users\\jglez\\anaconda3\\Lib\\site-packages\\plotly\\basedatatypes.py\", line 4443, in _props\n",
      "    return self.parent._get_child_props(self)\n",
      "           ^^^^^^^^^^^^^^^^^^^^^^^^^^^^^^^^^^\n",
      "  File \"C:\\Users\\jglez\\anaconda3\\Lib\\site-packages\\plotly\\basedatatypes.py\", line 4457, in _get_child_props\n",
      "    if self._props is None:\n",
      "       ^^^^^^^^^^^\n",
      "  File \"C:\\Users\\jglez\\anaconda3\\Lib\\site-packages\\plotly\\basedatatypes.py\", line 4443, in _props\n",
      "    return self.parent._get_child_props(self)\n",
      "           ^^^^^^^^^^^^^^^^^^^^^^^^^^^^^^^^^^\n",
      "  File \"C:\\Users\\jglez\\anaconda3\\Lib\\site-packages\\plotly\\basedatatypes.py\", line 4477, in _get_child_props\n",
      "    child_ind = BaseFigure._index_is(children, child)\n",
      "                ^^^^^^^^^^^^^^^^^^^^^^^^^^^^^^^^^^^^^\n",
      "  File \"C:\\Users\\jglez\\anaconda3\\Lib\\site-packages\\plotly\\basedatatypes.py\", line 3971, in _index_is\n",
      "    raise ValueError(\"Invalid value\")\n",
      "ValueError: Invalid value\n"
     ]
    }
   ],
   "source": [
    "#!jupyter nbconvert --execute --to 'html' practica_parte2.ipynb"
   ]
  },
  {
   "cell_type": "code",
   "execution_count": null,
   "id": "ad206410",
   "metadata": {},
   "outputs": [],
   "source": []
  }
 ],
 "metadata": {
  "colab": {
   "provenance": []
  },
  "kernelspec": {
   "display_name": "Python 3 (ipykernel)",
   "language": "python",
   "name": "python3"
  },
  "language_info": {
   "codemirror_mode": {
    "name": "ipython",
    "version": 3
   },
   "file_extension": ".py",
   "mimetype": "text/x-python",
   "name": "python",
   "nbconvert_exporter": "python",
   "pygments_lexer": "ipython3",
   "version": "3.11.4"
  }
 },
 "nbformat": 4,
 "nbformat_minor": 5
}
